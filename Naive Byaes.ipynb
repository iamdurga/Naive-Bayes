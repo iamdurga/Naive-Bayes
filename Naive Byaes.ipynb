{
 "cells": [
  {
   "cell_type": "markdown",
   "metadata": {},
   "source": []
  },
  {
   "cell_type": "markdown",
   "metadata": {
    "slideshow": {
     "slide_type": "slide"
    }
   },
   "source": [
    "# Bayes Theorem\n",
    "\n",
    "Naive Bayes work on the basis of `Bayes Theorem`\n",
    "\n",
    "$$P(A\\mid B)=\\frac {P(B\\mid A) \\cdot P(A)}{P(B)}$$\n",
    "\n",
    "Where, P(A/B) = Posterior Probability\n",
    "  \n",
    "       P(B/A) = Conditional Probability\n",
    "       \n",
    "       P(A) = Prior Probability\n",
    "       \n",
    "       P(B) = Marginal Probability. \n",
    "       \n",
    "  Here, P(B) is constant for all values and hence does not contribute much to classifying the dataset, so we neglect that term while doing calculations.\n",
    "\n"
   ]
  },
  {
   "cell_type": "markdown",
   "metadata": {
    "slideshow": {
     "slide_type": "slide"
    }
   },
   "source": [
    "# Import Necessary Module"
   ]
  },
  {
   "cell_type": "code",
   "execution_count": 3,
   "metadata": {
    "ExecuteTime": {
     "end_time": "2022-11-18T10:17:03.514850Z",
     "start_time": "2022-11-18T10:17:03.498929Z"
    },
    "slideshow": {
     "slide_type": "slide"
    }
   },
   "outputs": [],
   "source": [
    "import pandas as pd \n"
   ]
  },
  {
   "cell_type": "markdown",
   "metadata": {
    "slideshow": {
     "slide_type": "slide"
    }
   },
   "source": [
    "# Data Load\n",
    "\n",
    "Here we use diabetes data. If you are interested in obtaining a data set, please visit [link]. (https://www.kaggle.com/datasets/uciml/pima-indians-diabetes-database) Talking about the dataset, it predicts whether a patient has diabetes or not on the basis of measurements (pregnancys,glucosee,blood pressuree,skin thicknesss,insulinn, BMI,diabetes pedigree functionn,agee)."
   ]
  },
  {
   "cell_type": "code",
   "execution_count": 4,
   "metadata": {
    "ExecuteTime": {
     "end_time": "2022-11-18T10:17:05.738020Z",
     "start_time": "2022-11-18T10:17:05.686376Z"
    },
    "slideshow": {
     "slide_type": "slide"
    }
   },
   "outputs": [
    {
     "data": {
      "text/html": [
       "<div>\n",
       "<style scoped>\n",
       "    .dataframe tbody tr th:only-of-type {\n",
       "        vertical-align: middle;\n",
       "    }\n",
       "\n",
       "    .dataframe tbody tr th {\n",
       "        vertical-align: top;\n",
       "    }\n",
       "\n",
       "    .dataframe thead th {\n",
       "        text-align: right;\n",
       "    }\n",
       "</style>\n",
       "<table border=\"1\" class=\"dataframe\">\n",
       "  <thead>\n",
       "    <tr style=\"text-align: right;\">\n",
       "      <th></th>\n",
       "      <th>Pregnancies</th>\n",
       "      <th>Glucose</th>\n",
       "      <th>BloodPressure</th>\n",
       "      <th>SkinThickness</th>\n",
       "      <th>Insulin</th>\n",
       "      <th>BMI</th>\n",
       "      <th>DiabetesPedigreeFunction</th>\n",
       "      <th>Age</th>\n",
       "      <th>Outcome</th>\n",
       "    </tr>\n",
       "  </thead>\n",
       "  <tbody>\n",
       "    <tr>\n",
       "      <th>0</th>\n",
       "      <td>6</td>\n",
       "      <td>148</td>\n",
       "      <td>72</td>\n",
       "      <td>35</td>\n",
       "      <td>0</td>\n",
       "      <td>33.6</td>\n",
       "      <td>0.627</td>\n",
       "      <td>50</td>\n",
       "      <td>1</td>\n",
       "    </tr>\n",
       "    <tr>\n",
       "      <th>1</th>\n",
       "      <td>1</td>\n",
       "      <td>85</td>\n",
       "      <td>66</td>\n",
       "      <td>29</td>\n",
       "      <td>0</td>\n",
       "      <td>26.6</td>\n",
       "      <td>0.351</td>\n",
       "      <td>31</td>\n",
       "      <td>0</td>\n",
       "    </tr>\n",
       "    <tr>\n",
       "      <th>2</th>\n",
       "      <td>8</td>\n",
       "      <td>183</td>\n",
       "      <td>64</td>\n",
       "      <td>0</td>\n",
       "      <td>0</td>\n",
       "      <td>23.3</td>\n",
       "      <td>0.672</td>\n",
       "      <td>32</td>\n",
       "      <td>1</td>\n",
       "    </tr>\n",
       "    <tr>\n",
       "      <th>3</th>\n",
       "      <td>1</td>\n",
       "      <td>89</td>\n",
       "      <td>66</td>\n",
       "      <td>23</td>\n",
       "      <td>94</td>\n",
       "      <td>28.1</td>\n",
       "      <td>0.167</td>\n",
       "      <td>21</td>\n",
       "      <td>0</td>\n",
       "    </tr>\n",
       "    <tr>\n",
       "      <th>4</th>\n",
       "      <td>0</td>\n",
       "      <td>137</td>\n",
       "      <td>40</td>\n",
       "      <td>35</td>\n",
       "      <td>168</td>\n",
       "      <td>43.1</td>\n",
       "      <td>2.288</td>\n",
       "      <td>33</td>\n",
       "      <td>1</td>\n",
       "    </tr>\n",
       "  </tbody>\n",
       "</table>\n",
       "</div>"
      ],
      "text/plain": [
       "   Pregnancies  Glucose  BloodPressure  SkinThickness  Insulin   BMI  \\\n",
       "0            6      148             72             35        0  33.6   \n",
       "1            1       85             66             29        0  26.6   \n",
       "2            8      183             64              0        0  23.3   \n",
       "3            1       89             66             23       94  28.1   \n",
       "4            0      137             40             35      168  43.1   \n",
       "\n",
       "   DiabetesPedigreeFunction  Age  Outcome  \n",
       "0                     0.627   50        1  \n",
       "1                     0.351   31        0  \n",
       "2                     0.672   32        1  \n",
       "3                     0.167   21        0  \n",
       "4                     2.288   33        1  "
      ]
     },
     "execution_count": 4,
     "metadata": {},
     "output_type": "execute_result"
    }
   ],
   "source": [
    "df = pd.read_csv('diabetes.csv')\n",
    "df.head()"
   ]
  },
  {
   "cell_type": "markdown",
   "metadata": {
    "slideshow": {
     "slide_type": "slide"
    }
   },
   "source": [
    "# Convert Continuous Data to Categorical Data \n",
    "\n",
    "For classification tasks, we always need data in categorical format, but our available data is in continuous type. So our first task is to convert the given data into categorical data while also dealing with missing values. To change the given data into categorical format, we use the \"pandas cut function.\" which work in the following manner:\n",
    "\n",
    "`cut(array, bins, level)`\n",
    "\n",
    "If we do not provide the bins size it automatically create the bins size in this way,\n",
    "\n",
    "M = maximum value of array\n",
    "\n",
    "m = minimum value of array\n",
    "\n",
    "R = M - m\n",
    "\n",
    "bins = round(sqrt(R)) \n",
    "\n",
    "But, in our care, we already provided the bin size, so it must first find the maximum value and divide that value by the number of bins, and then categorize our dataset according to the level we have provided."
   ]
  },
  {
   "cell_type": "code",
   "execution_count": 5,
   "metadata": {
    "ExecuteTime": {
     "end_time": "2022-11-18T10:17:07.462390Z",
     "start_time": "2022-11-18T10:17:07.426116Z"
    },
    "slideshow": {
     "slide_type": "slide"
    }
   },
   "outputs": [],
   "source": [
    "labels = ['lower','medium','higher']\n",
    "for i in df.columns[:-1]: \n",
    "    mean = df[i].mean() \n",
    "    df[i] = df[i].replace(0,mean) \n",
    "    df[i] = pd.cut(df[i],bins=len(labels),labels=labels)\n",
    "    \n",
    "    "
   ]
  },
  {
   "cell_type": "markdown",
   "metadata": {
    "slideshow": {
     "slide_type": "slide"
    }
   },
   "source": [
    "# Count Function\n",
    " \n",
    " The below count function simply counts how much data there is according to class and category, respectively."
   ]
  },
  {
   "cell_type": "code",
   "execution_count": 20,
   "metadata": {
    "ExecuteTime": {
     "end_time": "2022-11-18T11:39:17.336555Z",
     "start_time": "2022-11-18T11:39:17.330318Z"
    },
    "slideshow": {
     "slide_type": "slide"
    }
   },
   "outputs": [],
   "source": [
    "def count(df,colname,label,target):\n",
    "    rule = (df[colname] == label) & (df['Outcome'] == target) \n",
    "    return len(df[rule])"
   ]
  },
  {
   "cell_type": "code",
   "execution_count": 21,
   "metadata": {
    "ExecuteTime": {
     "end_time": "2022-11-18T11:39:17.942286Z",
     "start_time": "2022-11-18T11:39:17.929599Z"
    },
    "slideshow": {
     "slide_type": "slide"
    }
   },
   "outputs": [],
   "source": [
    "predicted = []"
   ]
  },
  {
   "cell_type": "code",
   "execution_count": 22,
   "metadata": {
    "ExecuteTime": {
     "end_time": "2022-11-18T11:39:18.610544Z",
     "start_time": "2022-11-18T11:39:18.597797Z"
    },
    "slideshow": {
     "slide_type": "slide"
    }
   },
   "outputs": [],
   "source": [
    "probabilities = {0:{},1:{}}"
   ]
  },
  {
   "cell_type": "markdown",
   "metadata": {
    "slideshow": {
     "slide_type": "slide"
    }
   },
   "source": [
    "# Split Data into Train and Test Set\n",
    "\n",
    "We use 70% of the data without any random process in this data splitting process; however, this is not a good approach because it may be affected by bias at times, so I strongly recommend you use the k-folds approach or any other random splitting process. "
   ]
  },
  {
   "cell_type": "code",
   "execution_count": 14,
   "metadata": {
    "ExecuteTime": {
     "end_time": "2022-11-18T10:20:02.221101Z",
     "start_time": "2022-11-18T10:20:02.212269Z"
    },
    "slideshow": {
     "slide_type": "slide"
    }
   },
   "outputs": [],
   "source": [
    "train_percent = 70\n",
    "train_len = int((train_percent*len(df))/100)\n",
    "train_X = df.iloc[:train_len,:]\n",
    "test_X = df.iloc[train_len+1:,:-1]\n",
    "test_y = df.iloc[train_len+1:,-1]"
   ]
  },
  {
   "cell_type": "markdown",
   "metadata": {
    "slideshow": {
     "slide_type": "slide"
    }
   },
   "source": [
    "# Prior probability\n",
    "\n",
    "Now, let's calculate prior probability by using following formula,\n",
    "\n",
    " P(Outcome => 0) = Count(0)/Total Number of data\n",
    " \n",
    "P(Outcome => 1) = Count(1)/Total Number of data "
   ]
  },
  {
   "cell_type": "code",
   "execution_count": 17,
   "metadata": {
    "ExecuteTime": {
     "end_time": "2022-11-18T10:22:07.312101Z",
     "start_time": "2022-11-18T10:22:07.302132Z"
    },
    "slideshow": {
     "slide_type": "slide"
    }
   },
   "outputs": [],
   "source": [
    "total_0 = count(train_X,'Outcome',0,0)\n",
    "total_1 = count(train_X,'Outcome',1,1)\n",
    "    \n",
    "prior_prob_0 = total_0/len(train_X)\n",
    "prior_prob_1 = total_1/len(train_X)"
   ]
  },
  {
   "cell_type": "markdown",
   "metadata": {
    "slideshow": {
     "slide_type": "slide"
    }
   },
   "source": [
    "# Conditional Probability\n",
    "In Bayes Theorem there is another kind of probability which is known as conditional probability. Lets calculate it using following formula.\n",
    "\n",
    "Conditional-probability = P(Count of Category/Count of 0)\n",
    "\n",
    "Conditional-probability = P(Count of Category/Count of 1)\n"
   ]
  },
  {
   "cell_type": "code",
   "execution_count": 18,
   "metadata": {
    "ExecuteTime": {
     "end_time": "2022-11-18T10:22:11.649003Z",
     "start_time": "2022-11-18T10:22:11.571423Z"
    },
    "slideshow": {
     "slide_type": "slide"
    }
   },
   "outputs": [],
   "source": [
    "for col in train_X.columns[:-1]:\n",
    "        probabilities[0][col] = {}\n",
    "        probabilities[1][col] = {}\n",
    "        \n",
    "        for category in labels:\n",
    "            total_ct_0 = count(train_X,col,category,0)\n",
    "            total_ct_1 = count(train_X,col,category,1)\n",
    "            \n",
    "            probabilities[0][col][category] = total_ct_0 / total_0\n",
    "            probabilities[1][col][category] = total_ct_1 / total_1"
   ]
  },
  {
   "cell_type": "markdown",
   "metadata": {
    "slideshow": {
     "slide_type": "slide"
    }
   },
   "source": [
    "# Posterior probability\n",
    "\n",
    "Finally, \n",
    "\n",
    "Posterior Probability = Conditional Probability * Prior probability"
   ]
  },
  {
   "cell_type": "code",
   "execution_count": 19,
   "metadata": {
    "ExecuteTime": {
     "end_time": "2022-11-18T10:22:42.674559Z",
     "start_time": "2022-11-18T10:22:42.607678Z"
    },
    "slideshow": {
     "slide_type": "slide"
    }
   },
   "outputs": [],
   "source": [
    "for row in range(0,len(test_X)):\n",
    "        prod_0 = prior_prob_0\n",
    "        prod_1 = prior_prob_1\n",
    "        for feature in test_X.columns:\n",
    "            prod_0 *= probabilities[0][feature][test_X[feature].iloc[row]] \n",
    "            prod_1 *= probabilities[1][feature][test_X[feature].iloc[row]] \n",
    "            \n",
    "        \n",
    "        \n",
    "        if prod_0 > prod_1:\n",
    "            predicted.append(0)\n",
    "\n",
    "        else:\n",
    "            predicted.append(1)\n",
    "            \n"
   ]
  },
  {
   "cell_type": "markdown",
   "metadata": {
    "slideshow": {
     "slide_type": "slide"
    }
   },
   "source": [
    "# Which is the class for the given dataset?"
   ]
  },
  {
   "cell_type": "code",
   "execution_count": 11,
   "metadata": {
    "ExecuteTime": {
     "end_time": "2022-11-14T10:57:13.761014Z",
     "start_time": "2022-11-14T10:57:13.737631Z"
    },
    "slideshow": {
     "slide_type": "slide"
    }
   },
   "outputs": [
    {
     "name": "stdout",
     "output_type": "stream",
     "text": [
      "79\n",
      "151\n",
      "Final predication for given dataset is patient do not have diabetes\n"
     ]
    }
   ],
   "source": [
    "have_diabetes = 0\n",
    "do_not_have = 0\n",
    "\n",
    "for i in predicted:\n",
    "    if i == 0:\n",
    "        do_not_have +=1 \n",
    "    else:\n",
    "        have_diabetes += 1\n",
    "print(have_diabetes)\n",
    "print(do_not_have)\n",
    "print(\"Final predication for given dataset is patient do not have diabetes\")"
   ]
  },
  {
   "cell_type": "markdown",
   "metadata": {
    "slideshow": {
     "slide_type": "slide"
    }
   },
   "source": [
    "# The Given Classification Model's Accuracy "
   ]
  },
  {
   "cell_type": "code",
   "execution_count": 12,
   "metadata": {
    "ExecuteTime": {
     "end_time": "2022-11-14T10:57:13.776251Z",
     "start_time": "2022-11-14T10:57:13.763971Z"
    },
    "slideshow": {
     "slide_type": "slide"
    }
   },
   "outputs": [],
   "source": [
    "tp,tn,fp,fn = 0,0,0,0\n",
    "for j in range(0,len(predicted)):\n",
    "    if predicted[j] == 0:\n",
    "        #print(test_y.iloc[j])\n",
    "        if test_y.iloc[j] == 0:\n",
    "            tp += 1\n",
    "        else:\n",
    "            fp += 1\n",
    "    else:\n",
    "        if test_y.iloc[j] == 1:\n",
    "            tn += 1\n",
    "        else:\n",
    "            fn += 1"
   ]
  },
  {
   "cell_type": "code",
   "execution_count": 13,
   "metadata": {
    "ExecuteTime": {
     "end_time": "2022-11-14T10:57:13.791919Z",
     "start_time": "2022-11-14T10:57:13.779918Z"
    },
    "slideshow": {
     "slide_type": "slide"
    }
   },
   "outputs": [
    {
     "name": "stdout",
     "output_type": "stream",
     "text": [
      "Accuracy for training length 70% :  80.0\n"
     ]
    }
   ],
   "source": [
    "++print('Accuracy for training length '+str(train_percent)+'% : ',((tp+tn)/len(test_y))*100)"
   ]
  }
 ],
 "metadata": {
  "kernelspec": {
   "display_name": "Python 3",
   "language": "python",
   "name": "python3"
  },
  "language_info": {
   "codemirror_mode": {
    "name": "ipython",
    "version": 3
   },
   "file_extension": ".py",
   "mimetype": "text/x-python",
   "name": "python",
   "nbconvert_exporter": "python",
   "pygments_lexer": "ipython3",
   "version": "3.8.5"
  },
  "latex_envs": {
   "LaTeX_envs_menu_present": true,
   "autoclose": false,
   "autocomplete": true,
   "bibliofile": "biblio.bib",
   "cite_by": "apalike",
   "current_citInitial": 1,
   "eqLabelWithNumbers": true,
   "eqNumInitial": 1,
   "hotkeys": {
    "equation": "Ctrl-E",
    "itemize": "Ctrl-I"
   },
   "labels_anchors": false,
   "latex_user_defs": false,
   "report_style_numbering": false,
   "user_envs_cfg": false
  },
  "toc": {
   "base_numbering": 1,
   "nav_menu": {},
   "number_sections": true,
   "sideBar": true,
   "skip_h1_title": false,
   "title_cell": "Table of Contents",
   "title_sidebar": "Contents",
   "toc_cell": false,
   "toc_position": {},
   "toc_section_display": true,
   "toc_window_display": false
  }
 },
 "nbformat": 4,
 "nbformat_minor": 4
}
